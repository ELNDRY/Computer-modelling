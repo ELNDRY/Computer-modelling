{
 "cells": [
  {
   "cell_type": "code",
   "execution_count": 15,
   "metadata": {},
   "outputs": [],
   "source": [
    "# Импорт библиотек\n",
    "import numpy as np\n",
    "import math\n",
    "from scipy.misc import derivative\n",
    "from scipy.integrate import quad\n",
    "import matplotlib.pyplot as plt\n",
    "\n",
    "sqrt = math.sqrt"
   ]
  },
  {
   "cell_type": "code",
   "execution_count": 16,
   "metadata": {},
   "outputs": [],
   "source": [
    "# Метод конечных разностей\n",
    "# Вводим ОДУ : p(x), q(x), f(x)\n",
    "# Вводим граничные условия в виде:\n",
    "# alpha0 * y(a) + alpha1 * y'(a) = A\n",
    "# beta0 * y(b) + beta1 * y'(b) = B \n",
    "\n",
    "def FiniteDifferenceMethod(alpha0,alpha1,beta0,beta1,A,B,a,b,n, x):\n",
    "    h = (b-a)/n\n",
    "    mA = np.zeros((n+1,n+1))\n",
    "    mB = np.zeros(n+1)\n",
    "    for i in range(1,n):\n",
    "        mB[i]= h*h*f(x[i]) \n",
    "        mA[i,i] = -(2-q(x[i])*h*h)\n",
    "        mA[i,i+1] = 1+p(x[i])*h/2\n",
    "        mA[i,i-1] = 1-p(x[i])*h/2\n",
    "    mA[0,0]= alpha0*h-alpha1\n",
    "    mA[0,1]= alpha1\n",
    "    mA[n,n-1]= -beta1\n",
    "    mA[n,n]= h*beta0+beta1\n",
    "    mB[0]=A*h\n",
    "    mB[n]= B*h\n",
    "    Yn = seidel(mA,mB,0.0001)\n",
    "    return Yn\n",
    "    \n",
    "#Метод Зейделя-Гаусса\n",
    "def seidel(A, b, eps):\n",
    "    n = len(A)\n",
    "    x = [1.0 for i in range(n)]\n",
    "\n",
    "    converge = False\n",
    "    while not converge:\n",
    "        x_new = np.copy(x)\n",
    "        for i in range(n):\n",
    "            s1 = sum(A[i][j] * x_new[j] for j in range(i))\n",
    "            s2 = sum(A[i][j] * x[j] for j in range(i + 1, n))\n",
    "            x_new[i] = (b[i] - s1 - s2) / A[i][i]\n",
    "\n",
    "        converge = sqrt(sum((x_new[i] - x[i]) ** 2 for i in range(n))) <= eps\n",
    "        x = x_new\n",
    "\n",
    "    return x\n",
    "\n",
    "#Служебная функция\n",
    "\n",
    "def Output(arrX, arrY, corArrY):\n",
    "    result = \"%8s\\t%8s\\t%12s\\t%10s\\n\" % ('X','Y','Точное решение','Погрешность')\n",
    "    for i in range(len(arrX)):\n",
    "        result += \"%7f\\t%7f\\t%7f\\t%7f\\n\" % (arrX[i],arrY[i],corArrY[i],corArrY[i]-arrY[i])\n",
    "    print(result)\n",
    "\n",
    "\n",
    "#Описание ОДУ\n",
    "#y''+(2/x)y'-y=0\n",
    "def p(x):\n",
    "    return 0\n",
    "\n",
    "def q(x):\n",
    "    return -2*(1+(np.tan(x))**2)\n",
    "\n",
    "def f(x):\n",
    "    return 0.0\n",
    "\n",
    "#Точное решение\n",
    "def y_correct(x):\n",
    "    return -np.tan(x)\n",
    "\n",
    "if __name__ == \"__main__\":\n",
    "    #Исходные данные граничных условий\n",
    "    alpha0 =  1\n",
    "    alpha1 = 0\n",
    "    beta0 = 1\n",
    "    beta1 = 0\n",
    "    A = 0\n",
    "    B =  -math.sqrt(3) / 3\n",
    "    a = 0\n",
    "    b = math.pi / 6\n",
    "\n",
    "    n = 10\n",
    "\n",
    "    x=[a+i*((b-a)/n) for i in range(n+1)]\n",
    "    Y_Correct = [y_correct(x[i]) for i in range(len(x))]\n",
    "\n"
   ]
  },
  {
   "cell_type": "code",
   "execution_count": 17,
   "metadata": {},
   "outputs": [
    {
     "name": "stdout",
     "output_type": "stream",
     "text": [
      "Краевая задача:\n",
      "y''-2*(1+(tg(x))^2)y=0\n",
      "y(0)=0; y(pi/6)=-√3/3\n",
      "\n",
      "Точное решение:\n",
      "y(x)=-tg(x)\n",
      "\n",
      "Метод конечных разностей:\n",
      "       X\t       Y\tТочное решение\tПогрешность\n",
      "0.000000\t0.000000\t-0.000000\t-0.000000\n",
      "0.052360\t-0.052271\t-0.052408\t-0.000137\n",
      "0.104720\t-0.104860\t-0.105104\t-0.000245\n",
      "0.157080\t-0.158068\t-0.158384\t-0.000316\n",
      "0.209440\t-0.212208\t-0.212557\t-0.000349\n",
      "0.261799\t-0.267607\t-0.267949\t-0.000342\n",
      "0.314159\t-0.324618\t-0.324920\t-0.000302\n",
      "0.366519\t-0.383628\t-0.383864\t-0.000236\n",
      "0.418879\t-0.445072\t-0.445229\t-0.000156\n",
      "0.471239\t-0.509452\t-0.509525\t-0.000073\n",
      "0.523599\t-0.577350\t-0.577350\t0.000000\n",
      "\n"
     ]
    }
   ],
   "source": [
    "print(\"Краевая задача:\")\n",
    "print(\"y''-2*(1+(tg(x))^2)y=0\")\n",
    "print(\"y(0)=0; y(pi/6)=-√3/3\\n\")\n",
    "print(\"Точное решение:\")\n",
    "print(\"y(x)=-tg(x)\\n\")\n",
    "print(\"Метод конечных разностей:\")\n",
    "yMKR = FiniteDifferenceMethod(alpha0,alpha1,beta0,beta1,A,B,a,b,n,x)\n",
    "Output(x, yMKR, Y_Correct)\n"
   ]
  },
  {
   "cell_type": "code",
   "execution_count": 18,
   "metadata": {},
   "outputs": [
    {
     "name": "stdout",
     "output_type": "stream",
     "text": [
      "       X\t       Y\tТочное решение\tПогрешность\n",
      "0.000000\t0.000000\t-0.000000\t-0.000000\n",
      "0.052360\t-0.052271\t-0.052408\t-0.000137\n",
      "0.104720\t-0.104860\t-0.105104\t-0.000245\n",
      "0.157080\t-0.158068\t-0.158384\t-0.000316\n",
      "0.209440\t-0.212208\t-0.212557\t-0.000349\n",
      "0.261799\t-0.267607\t-0.267949\t-0.000342\n",
      "0.314159\t-0.324618\t-0.324920\t-0.000302\n",
      "0.366519\t-0.383628\t-0.383864\t-0.000236\n",
      "0.418879\t-0.445072\t-0.445229\t-0.000156\n",
      "0.471239\t-0.509452\t-0.509525\t-0.000073\n",
      "0.523599\t-0.577350\t-0.577350\t0.000000\n",
      "\n"
     ]
    }
   ],
   "source": [
    "#\"Метод конечных разностей:\n",
    "yMKR = FiniteDifferenceMethod(alpha0,alpha1,beta0,beta1,A,B,a,b,n,x)\n",
    "Output(x, yMKR, Y_Correct)"
   ]
  },
  {
   "cell_type": "code",
   "execution_count": 19,
   "metadata": {},
   "outputs": [
    {
     "data": {
      "image/png": "[encoded data removed]",
      "text/plain": [
       "<Figure size 640x480 with 1 Axes>"
      ]
     },
     "metadata": {},
     "output_type": "display_data"
    }
   ],
   "source": [
    " #Графики\n",
    "fig, ax = plt.subplots()\n",
    "ax.plot(x, yMKR, color='blue', label=\"м. конечных разностей\")\n",
    "ax.plot(x, Y_Correct, color='black', label=\"Точное решение\")\n",
    "ax.legend(loc='upper left')\n",
    "plt.show()"
   ]
  }
 ],
 "metadata": {
  "kernelspec": {
   "display_name": "Python 3",
   "language": "python",
   "name": "python3"
  },
  "language_info": {
   "codemirror_mode": {
    "name": "ipython",
    "version": 3
   },
   "file_extension": ".py",
   "mimetype": "text/x-python",
   "name": "python",
   "nbconvert_exporter": "python",
   "pygments_lexer": "ipython3",
   "version": "3.10.8"
  },
  "orig_nbformat": 4,
  "vscode": {
   "interpreter": {
    "hash": "1758c422341b4cce18509b79fc2bf340f30e5005ef447d908764f277473e4a64"
   }
  }
 },
 "nbformat": 4,
 "nbformat_minor": 2
}
